{
 "cells": [
  {
   "cell_type": "code",
   "execution_count": 1,
   "source": [
    "%matplotlib inline\r\n",
    "from matplotlib import style\r\n",
    "style.use('fivethirtyeight')\r\n",
    "import matplotlib.pyplot as plt"
   ],
   "outputs": [],
   "metadata": {}
  },
  {
   "cell_type": "code",
   "execution_count": 2,
   "source": [
    "import numpy as np\r\n",
    "import pandas as pd\r\n",
    "import datetime as dt"
   ],
   "outputs": [],
   "metadata": {}
  },
  {
   "cell_type": "markdown",
   "source": [
    "## Reflect Tables into SQLALchemy ORM"
   ],
   "metadata": {}
  },
  {
   "cell_type": "code",
   "execution_count": 3,
   "source": [
    "# Python SQL toolkit and Object Relational Mapper\r\n",
    "import sqlalchemy\r\n",
    "from sqlalchemy.ext.automap import automap_base\r\n",
    "from sqlalchemy.orm import Session\r\n",
    "from sqlalchemy import create_engine, func"
   ],
   "outputs": [],
   "metadata": {}
  },
  {
   "cell_type": "code",
   "execution_count": 4,
   "source": [
    "# create engine to hawaii.sqlite\r\n",
    "engine = create_engine(\"sqlite:///../Resources/hawaii.sqlite\")"
   ],
   "outputs": [],
   "metadata": {}
  },
  {
   "cell_type": "code",
   "execution_count": 5,
   "source": [
    "# reflect an existing database into a new model\r\n",
    "Base = automap_base()\r\n",
    "\r\n",
    "# reflect the tables\r\n",
    "Base.prepare(engine, reflect=True)"
   ],
   "outputs": [],
   "metadata": {}
  },
  {
   "cell_type": "code",
   "execution_count": 6,
   "source": [
    "# View all of the classes that automap found\r\n",
    "Base.classes.keys()"
   ],
   "outputs": [
    {
     "output_type": "execute_result",
     "data": {
      "text/plain": [
       "['measurement', 'station']"
      ]
     },
     "metadata": {},
     "execution_count": 6
    }
   ],
   "metadata": {}
  },
  {
   "cell_type": "code",
   "execution_count": 7,
   "source": [
    "# Save references to each table\r\n",
    "Measurement = Base.classes.measurement\r\n",
    "Station = Base.classes.station"
   ],
   "outputs": [],
   "metadata": {}
  },
  {
   "cell_type": "code",
   "execution_count": 8,
   "source": [
    "# Create our session (link) from Python to the DB\r\n",
    "session = Session(engine)"
   ],
   "outputs": [],
   "metadata": {}
  },
  {
   "cell_type": "markdown",
   "source": [
    "## Bonus Challenge Assignment: Temperature Analysis II"
   ],
   "metadata": {}
  },
  {
   "cell_type": "code",
   "execution_count": 9,
   "source": [
    "# This function called `calc_temps` will accept start date and end date in the format '%Y-%m-%d' \r\n",
    "# and return the minimum, maximum, and average temperatures for that range of dates\r\n",
    "def calc_temps(start_date, end_date):\r\n",
    "    \"\"\"TMIN, TAVG, and TMAX for a list of dates.\r\n",
    "    \r\n",
    "    Args:\r\n",
    "        start_date (string): A date string in the format %Y-%m-%d\r\n",
    "        end_date (string): A date string in the format %Y-%m-%d\r\n",
    "        \r\n",
    "    Returns:\r\n",
    "        TMIN, TAVE, and TMAX\r\n",
    "    \"\"\"\r\n",
    "    \r\n",
    "    return session.query(func.min(Measurement.tobs), func.avg(Measurement.tobs), func.max(Measurement.tobs)).\\\r\n",
    "        filter(Measurement.date >= start_date).filter(Measurement.date <= end_date).all()\r\n",
    "\r\n",
    "# For example\r\n",
    "print(calc_temps('2012-02-28', '2012-03-05'))"
   ],
   "outputs": [
    {
     "output_type": "stream",
     "name": "stdout",
     "text": [
      "[(62.0, 69.57142857142857, 74.0)]\n"
     ]
    }
   ],
   "metadata": {}
  },
  {
   "cell_type": "code",
   "execution_count": 22,
   "source": [
    "# Use the function `calc_temps` to calculate the tmin, tavg, and tmax \r\n",
    "# for a year in the data set\r\n",
    "stats = calc_temps('2012-08-01', '2012-08-07')\r\n",
    "temp_stats = list(np.ravel(stats))\r\n",
    "tmin = temp_stats[0]\r\n",
    "tavg = temp_stats[1]\r\n",
    "tmax = temp_stats[2]"
   ],
   "outputs": [],
   "metadata": {}
  },
  {
   "cell_type": "code",
   "execution_count": 11,
   "source": [
    "# Plot the results from your previous query as a bar chart. \r\n",
    "# Use \"Trip Avg Temp\" as your Title\r\n",
    "# Use the average temperature for bar height (y value)\r\n",
    "# Use the peak-to-peak (tmax-tmin) value as the y error bar (yerr)\r\n",
    "\r\n",
    "y_value = tavg\r\n",
    "\r\n"
   ],
   "outputs": [],
   "metadata": {}
  },
  {
   "cell_type": "markdown",
   "source": [
    "### Daily Rainfall Average"
   ],
   "metadata": {}
  },
  {
   "cell_type": "code",
   "execution_count": 12,
   "source": [
    "# Calculate the total amount of rainfall per weather station for your trip dates using the previous year's \r\n",
    "# matching dates.\r\n",
    "# Sort this in descending order by precipitation amount and list the station, name, latitude, longitude, and elevation\r\n"
   ],
   "outputs": [],
   "metadata": {}
  },
  {
   "cell_type": "code",
   "execution_count": 13,
   "source": [
    "# Use this function to calculate the daily normals \r\n",
    "# (i.e. the averages for tmin, tmax, and tavg for all historic data matching a specific month and day)\r\n",
    "\r\n",
    "def daily_normals(date):\r\n",
    "    \"\"\"Daily Normals.\r\n",
    "    \r\n",
    "    Args:\r\n",
    "        date (str): A date string in the format '%m-%d'\r\n",
    "        \r\n",
    "    Returns:\r\n",
    "        A list of tuples containing the daily normals, tmin, tavg, and tmax\r\n",
    "    \r\n",
    "    \"\"\"\r\n",
    "    \r\n",
    "    sel = [func.min(Measurement.tobs), func.avg(Measurement.tobs), func.max(Measurement.tobs)]\r\n",
    "    return session.query(*sel).filter(func.strftime(\"%m-%d\", Measurement.date) == date).all()\r\n",
    "\r\n",
    "# For example\r\n",
    "daily_normals(\"01-01\")"
   ],
   "outputs": [
    {
     "output_type": "execute_result",
     "data": {
      "text/plain": [
       "[(62.0, 69.15384615384616, 77.0)]"
      ]
     },
     "metadata": {},
     "execution_count": 13
    }
   ],
   "metadata": {}
  },
  {
   "cell_type": "code",
   "execution_count": 14,
   "source": [
    "# calculate the daily normals for your trip\r\n",
    "# push each tuple of calculations into a list called `normals`\r\n",
    "\r\n",
    "# Set the start and end date of the trip\r\n",
    "start_date = '2017-08-01'\r\n",
    "end_date = '2017-08-07'\r\n",
    "\r\n",
    "# Use the start and end date to create a range of dates\r\n",
    "\r\n",
    "\r\n",
    "# Strip off the year and save a list of strings in the format %m-%d\r\n",
    "\r\n",
    "\r\n",
    "# Use the `daily_normals` function to calculate the normals for each date string \r\n",
    "# and append the results to a list called `normals`.\r\n"
   ],
   "outputs": [],
   "metadata": {}
  },
  {
   "cell_type": "code",
   "execution_count": 15,
   "source": [
    "# Load the previous query results into a Pandas DataFrame and add the `trip_dates` range as the `date` index"
   ],
   "outputs": [],
   "metadata": {}
  },
  {
   "cell_type": "code",
   "execution_count": 16,
   "source": [
    "# Plot the daily normals as an area plot with `stacked=False`"
   ],
   "outputs": [],
   "metadata": {}
  },
  {
   "cell_type": "markdown",
   "source": [
    "## Close Session"
   ],
   "metadata": {}
  },
  {
   "cell_type": "code",
   "execution_count": null,
   "source": [
    "session.close()"
   ],
   "outputs": [],
   "metadata": {}
  }
 ],
 "metadata": {
  "kernelspec": {
   "display_name": "Python 3",
   "language": "python",
   "name": "python3"
  },
  "language_info": {
   "codemirror_mode": {
    "name": "ipython",
    "version": 3
   },
   "file_extension": ".py",
   "mimetype": "text/x-python",
   "name": "python",
   "nbconvert_exporter": "python",
   "pygments_lexer": "ipython3",
   "version": "3.7.7"
  }
 },
 "nbformat": 4,
 "nbformat_minor": 4
}