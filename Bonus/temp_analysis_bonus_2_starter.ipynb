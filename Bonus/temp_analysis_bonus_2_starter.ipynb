{
 "cells": [
  {
   "cell_type": "code",
   "execution_count": 1,
   "source": [
    "%matplotlib inline\r\n",
    "from matplotlib import style\r\n",
    "style.use('fivethirtyeight')\r\n",
    "import matplotlib.pyplot as plt"
   ],
   "outputs": [],
   "metadata": {}
  },
  {
   "cell_type": "code",
   "execution_count": 2,
   "source": [
    "import numpy as np\r\n",
    "import pandas as pd\r\n",
    "import datetime as dt"
   ],
   "outputs": [],
   "metadata": {}
  },
  {
   "cell_type": "markdown",
   "source": [
    "## Reflect Tables into SQLALchemy ORM"
   ],
   "metadata": {}
  },
  {
   "cell_type": "code",
   "execution_count": 3,
   "source": [
    "# Python SQL toolkit and Object Relational Mapper\r\n",
    "import sqlalchemy\r\n",
    "from sqlalchemy.ext.automap import automap_base\r\n",
    "from sqlalchemy.orm import Session\r\n",
    "from sqlalchemy import create_engine, func"
   ],
   "outputs": [],
   "metadata": {}
  },
  {
   "cell_type": "code",
   "execution_count": 4,
   "source": [
    "# create engine to hawaii.sqlite\r\n",
    "engine = create_engine(\"sqlite:///../Resources/hawaii.sqlite\")"
   ],
   "outputs": [],
   "metadata": {}
  },
  {
   "cell_type": "code",
   "execution_count": 5,
   "source": [
    "# reflect an existing database into a new model\r\n",
    "Base = automap_base()\r\n",
    "\r\n",
    "# reflect the tables\r\n",
    "Base.prepare(engine, reflect=True)"
   ],
   "outputs": [],
   "metadata": {}
  },
  {
   "cell_type": "code",
   "execution_count": 6,
   "source": [
    "# View all of the classes that automap found\r\n",
    "Base.classes.keys()"
   ],
   "outputs": [
    {
     "output_type": "execute_result",
     "data": {
      "text/plain": [
       "['measurement', 'station']"
      ]
     },
     "metadata": {},
     "execution_count": 6
    }
   ],
   "metadata": {}
  },
  {
   "cell_type": "code",
   "execution_count": 7,
   "source": [
    "# Save references to each table\r\n",
    "Measurement = Base.classes.measurement\r\n",
    "Station = Base.classes.station"
   ],
   "outputs": [],
   "metadata": {}
  },
  {
   "cell_type": "code",
   "execution_count": 8,
   "source": [
    "# Create our session (link) from Python to the DB\r\n",
    "session = Session(engine)"
   ],
   "outputs": [],
   "metadata": {}
  },
  {
   "cell_type": "markdown",
   "source": [
    "## Bonus Challenge Assignment: Temperature Analysis II"
   ],
   "metadata": {}
  },
  {
   "cell_type": "code",
   "execution_count": 9,
   "source": [
    "# This function called `calc_temps` will accept start date and end date in the format '%Y-%m-%d' \r\n",
    "# and return the minimum, maximum, and average temperatures for that range of dates\r\n",
    "def calc_temps(start_date, end_date):\r\n",
    "    \"\"\"TMIN, TAVG, and TMAX for a list of dates.\r\n",
    "    \r\n",
    "    Args:\r\n",
    "        start_date (string): A date string in the format %Y-%m-%d\r\n",
    "        end_date (string): A date string in the format %Y-%m-%d\r\n",
    "        \r\n",
    "    Returns:\r\n",
    "        TMIN, TAVE, and TMAX\r\n",
    "    \"\"\"\r\n",
    "    \r\n",
    "    return session.query(func.min(Measurement.tobs), func.avg(Measurement.tobs), func.max(Measurement.tobs)).\\\r\n",
    "        filter(Measurement.date >= start_date).filter(Measurement.date <= end_date).all()\r\n",
    "\r\n",
    "# For example\r\n",
    "print(calc_temps('2012-02-28', '2012-03-05'))"
   ],
   "outputs": [
    {
     "output_type": "stream",
     "name": "stdout",
     "text": [
      "[(62.0, 69.57142857142857, 74.0)]\n"
     ]
    }
   ],
   "metadata": {}
  },
  {
   "cell_type": "code",
   "execution_count": 10,
   "source": [
    "# Use the function `calc_temps` to calculate the tmin, tavg, and tmax \r\n",
    "# for a year in the data set\r\n",
    "stats = calc_temps('2012-08-01', '2012-08-07')\r\n",
    "temp_stats = list(np.ravel(stats))\r\n",
    "\r\n",
    "tmin = temp_stats[0]\r\n",
    "tavg = temp_stats[1]\r\n",
    "tmax = temp_stats[2]\r\n",
    "\r\n",
    "print(tmin, tavg, tmax)\r\n"
   ],
   "outputs": [
    {
     "output_type": "stream",
     "name": "stdout",
     "text": [
      "67.0 74.97826086956522 82.0\n"
     ]
    }
   ],
   "metadata": {}
  },
  {
   "cell_type": "code",
   "execution_count": 11,
   "source": [
    "# Plot the results from your previous query as a bar chart. \r\n",
    "# Use \"Trip Avg Temp\" as your Title\r\n",
    "# Use the average temperature for bar height (y value)\r\n",
    "# Use the peak-to-peak (tmax-tmin) value as the y error bar (yerr)\r\n",
    "data = [tavg]\r\n",
    "x_axis = len(data)\r\n",
    "errmax = (tmax-tavg)\r\n",
    "errmin = (tavg-tmin)\r\n",
    "error = ([[errmin],[errmax]])\r\n",
    "plt.bar(x = x_axis, height = data, yerr = error, align = 'center')\r\n",
    "plt.title('Trip Avg Temp')\r\n",
    "plt.xticks(ticks=[])\r\n",
    "plt.ylabel('Tempterature (F)')\r\n",
    "plt.show()"
   ],
   "outputs": [
    {
     "output_type": "display_data",
     "data": {
      "text/plain": [
       "<Figure size 432x288 with 1 Axes>"
      ],
      "image/png": "[encoded data removed]"
     },
     "metadata": {}
    }
   ],
   "metadata": {}
  },
  {
   "cell_type": "markdown",
   "source": [
    "### Daily Rainfall Average"
   ],
   "metadata": {}
  },
  {
   "cell_type": "code",
   "execution_count": 36,
   "source": [
    "# Calculate the total amount of rainfall per weather station for your trip dates using the previous year's \r\n",
    "# matching dates.\r\n",
    "# Sort this in descending order by precipitation amount and list the station, name, latitude, longitude, and elevation\r\n",
    "sel = [func.sum(Measurement.prcp), Measurement.station, Station.name, Station.latitude, Station.longitude, Station.elevation]\r\n",
    "rainfall = session.query(*sel).\\\r\n",
    "    filter(Measurement.station == Station.station).\\\r\n",
    "    filter(func.strftime(\"%Y-%m-%d\", Measurement.date) >= '2012-08-01').\\\r\n",
    "    filter(func.strftime(\"%Y-%m-%d\", Measurement.date) <= '2012-08-07').\\\r\n",
    "    group_by(Measurement.station).\\\r\n",
    "    order_by(func.avg(Measurement.prcp).desc()).all()\r\n",
    "\r\n",
    "print('From August 1 to August 7, 2012:')\r\n",
    "\r\n",
    "for record in rainfall:\r\n",
    "    (rain, station, name, latitude, longitude, elevataion) = record\r\n",
    "    print(f'{rain} inches of rain fell at the {name} station number {station}, located at the coordinates: {latitude}, {longitude} and an elevation of {elevataion}m')"
   ],
   "outputs": [
    {
     "output_type": "stream",
     "name": "stdout",
     "text": [
      "From August 1 to August 7, 2012:\n",
      "1.16 inches of rain fell at the MANOA LYON ARBO 785.2, HI US station number USC00516128, located at the coordinates: 21.3331, -157.8025 and an elevation of 152.4m\n",
      "0.26 inches of rain fell at the UPPER WAHIAWA 874.3, HI US station number USC00518838, located at the coordinates: 21.4992, -158.0111 and an elevation of 306.6m\n",
      "0.24 inches of rain fell at the WAIHEE 837.5, HI US station number USC00519281, located at the coordinates: 21.45167, -157.84888999999998 and an elevation of 32.9m\n",
      "0.22 inches of rain fell at the KANEOHE 838.1, HI US station number USC00513117, located at the coordinates: 21.4234, -157.8015 and an elevation of 14.6m\n",
      "0.07 inches of rain fell at the WAIMANALO EXPERIMENTAL FARM, HI US station number USC00519523, located at the coordinates: 21.33556, -157.71139 and an elevation of 19.5m\n",
      "0.01 inches of rain fell at the HONOLULU OBSERVATORY 702.2, HI US station number USC00511918, located at the coordinates: 21.3152, -157.9992 and an elevation of 0.9m\n",
      "0.0 inches of rain fell at the WAIKIKI 717.2, HI US station number USC00519397, located at the coordinates: 21.2716, -157.8168 and an elevation of 3.0m\n",
      "None inches of rain fell at the KUALOA RANCH HEADQUARTERS 886.9, HI US station number USC00514830, located at the coordinates: 21.5213, -157.8374 and an elevation of 7.0m\n"
     ]
    }
   ],
   "metadata": {}
  },
  {
   "cell_type": "code",
   "execution_count": 13,
   "source": [
    "# Use this function to calculate the daily normals \r\n",
    "# (i.e. the averages for tmin, tmax, and tavg for all historic data matching a specific month and day)\r\n",
    "\r\n",
    "def daily_normals(date):\r\n",
    "    \"\"\"Daily Normals.\r\n",
    "    \r\n",
    "    Args:\r\n",
    "        date (str): A date string in the format '%m-%d'\r\n",
    "        \r\n",
    "    Returns:\r\n",
    "        A list of tuples containing the daily normals, tmin, tavg, and tmax\r\n",
    "    \r\n",
    "    \"\"\"\r\n",
    "    \r\n",
    "    sel = [func.min(Measurement.tobs), func.avg(Measurement.tobs), func.max(Measurement.tobs)]\r\n",
    "    return session.query(*sel).filter(func.strftime(\"%m-%d\", Measurement.date) == date).all()\r\n",
    "\r\n",
    "# For example\r\n",
    "daily_normals(\"01-01\")"
   ],
   "outputs": [
    {
     "output_type": "execute_result",
     "data": {
      "text/plain": [
       "[(62.0, 69.15384615384616, 77.0)]"
      ]
     },
     "metadata": {},
     "execution_count": 13
    }
   ],
   "metadata": {}
  },
  {
   "cell_type": "code",
   "execution_count": 14,
   "source": [
    "# calculate the daily normals for your trip\r\n",
    "# push each tuple of calculations into a list called `normals`\r\n",
    "\r\n",
    "# Set the start and end date of the trip\r\n",
    "start_date = '2012-08-01'\r\n",
    "end_date = '2012-08-07'\r\n",
    "\r\n",
    "# Use the start and end date to create a range of dates\r\n",
    "trip_dates = pd.date_range(start_date, end_date)\r\n",
    "\r\n",
    "# Strip off the year and save a list of strings in the format %m-%d\r\n",
    "dates = [d.strftime('%m-%d') for d in trip_dates]\r\n",
    "\r\n",
    "# Use the `daily_normals` function to calculate the normals for each date string \r\n",
    "# and append the results to a list called `normals`.\r\n",
    "normals = [daily_normals(d) for d in dates]\r\n",
    "normals\r\n"
   ],
   "outputs": [
    {
     "output_type": "execute_result",
     "data": {
      "text/plain": [
       "[[(67.0, 75.54, 83.0)],\n",
       " [(68.0, 75.60377358490567, 84.0)],\n",
       " [(70.0, 76.61111111111111, 85.0)],\n",
       " [(69.0, 76.71153846153847, 84.0)],\n",
       " [(69.0, 76.14814814814815, 82.0)],\n",
       " [(67.0, 76.25, 83.0)],\n",
       " [(71.0, 77.15686274509804, 83.0)]]"
      ]
     },
     "metadata": {},
     "execution_count": 14
    }
   ],
   "metadata": {}
  },
  {
   "cell_type": "code",
   "execution_count": 15,
   "source": [
    "# Load the previous query results into a Pandas DataFrame and add the `trip_dates` range as the `date` index\r\n",
    "trip = [list(np.ravel(n)) for n in normals]\r\n",
    "\r\n",
    "trip_df = pd.DataFrame(trip, columns=['Min', 'Avg', 'Max']).set_index([dates])\r\n",
    "trip_df"
   ],
   "outputs": [
    {
     "output_type": "execute_result",
     "data": {
      "text/plain": [
       "        Min        Avg   Max\n",
       "08-01  67.0  75.540000  83.0\n",
       "08-02  68.0  75.603774  84.0\n",
       "08-03  70.0  76.611111  85.0\n",
       "08-04  69.0  76.711538  84.0\n",
       "08-05  69.0  76.148148  82.0\n",
       "08-06  67.0  76.250000  83.0\n",
       "08-07  71.0  77.156863  83.0"
      ],
      "text/html": [
       "<div>\n",
       "<style scoped>\n",
       "    .dataframe tbody tr th:only-of-type {\n",
       "        vertical-align: middle;\n",
       "    }\n",
       "\n",
       "    .dataframe tbody tr th {\n",
       "        vertical-align: top;\n",
       "    }\n",
       "\n",
       "    .dataframe thead th {\n",
       "        text-align: right;\n",
       "    }\n",
       "</style>\n",
       "<table border=\"1\" class=\"dataframe\">\n",
       "  <thead>\n",
       "    <tr style=\"text-align: right;\">\n",
       "      <th></th>\n",
       "      <th>Min</th>\n",
       "      <th>Avg</th>\n",
       "      <th>Max</th>\n",
       "    </tr>\n",
       "  </thead>\n",
       "  <tbody>\n",
       "    <tr>\n",
       "      <th>08-01</th>\n",
       "      <td>67.0</td>\n",
       "      <td>75.540000</td>\n",
       "      <td>83.0</td>\n",
       "    </tr>\n",
       "    <tr>\n",
       "      <th>08-02</th>\n",
       "      <td>68.0</td>\n",
       "      <td>75.603774</td>\n",
       "      <td>84.0</td>\n",
       "    </tr>\n",
       "    <tr>\n",
       "      <th>08-03</th>\n",
       "      <td>70.0</td>\n",
       "      <td>76.611111</td>\n",
       "      <td>85.0</td>\n",
       "    </tr>\n",
       "    <tr>\n",
       "      <th>08-04</th>\n",
       "      <td>69.0</td>\n",
       "      <td>76.711538</td>\n",
       "      <td>84.0</td>\n",
       "    </tr>\n",
       "    <tr>\n",
       "      <th>08-05</th>\n",
       "      <td>69.0</td>\n",
       "      <td>76.148148</td>\n",
       "      <td>82.0</td>\n",
       "    </tr>\n",
       "    <tr>\n",
       "      <th>08-06</th>\n",
       "      <td>67.0</td>\n",
       "      <td>76.250000</td>\n",
       "      <td>83.0</td>\n",
       "    </tr>\n",
       "    <tr>\n",
       "      <th>08-07</th>\n",
       "      <td>71.0</td>\n",
       "      <td>77.156863</td>\n",
       "      <td>83.0</td>\n",
       "    </tr>\n",
       "  </tbody>\n",
       "</table>\n",
       "</div>"
      ]
     },
     "metadata": {},
     "execution_count": 15
    }
   ],
   "metadata": {}
  },
  {
   "cell_type": "code",
   "execution_count": 18,
   "source": [
    "# Plot the daily normals as an area plot with `stacked=False`\r\n",
    "trip_df.plot(kind='area', stacked= False, title = 'Normal Temps in Hawaii for First Week of August', rot=30)\r\n",
    "plt.xlabel('Date')\r\n",
    "plt.ylabel('Temperature (F)')\r\n",
    "plt.show()"
   ],
   "outputs": [
    {
     "output_type": "display_data",
     "data": {
      "text/plain": [
       "<Figure size 432x288 with 1 Axes>"
      ],
      "image/png": "[encoded data removed]"
     },
     "metadata": {}
    }
   ],
   "metadata": {}
  },
  {
   "cell_type": "markdown",
   "source": [
    "## Close Session"
   ],
   "metadata": {}
  },
  {
   "cell_type": "code",
   "execution_count": 17,
   "source": [
    "session.close()"
   ],
   "outputs": [],
   "metadata": {}
  }
 ],
 "metadata": {
  "kernelspec": {
   "display_name": "Python 3",
   "language": "python",
   "name": "python3"
  },
  "language_info": {
   "codemirror_mode": {
    "name": "ipython",
    "version": 3
   },
   "file_extension": ".py",
   "mimetype": "text/x-python",
   "name": "python",
   "nbconvert_exporter": "python",
   "pygments_lexer": "ipython3",
   "version": "3.7.7"
  }
 },
 "nbformat": 4,
 "nbformat_minor": 4
}